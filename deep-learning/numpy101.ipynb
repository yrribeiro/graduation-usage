{
 "cells": [
  {
   "cell_type": "code",
   "execution_count": 1,
   "metadata": {},
   "outputs": [],
   "source": [
    "import numpy as np\n",
    "from numpy.random import default_rng"
   ]
  },
  {
   "attachments": {},
   "cell_type": "markdown",
   "metadata": {},
   "source": [
    "# NumPy Array\n",
    "* questions gathered @ https://github.com/tfvieira/deep-learning/blob/main/src/numpy_tutorial/readme.md"
   ]
  },
  {
   "attachments": {},
   "cell_type": "markdown",
   "metadata": {},
   "source": [
    "1. _How to create an empty and a full NumPy array?_"
   ]
  },
  {
   "cell_type": "code",
   "execution_count": 3,
   "metadata": {},
   "outputs": [
    {
     "name": "stdout",
     "output_type": "stream",
     "text": [
      "[]\n",
      "\n",
      " [[10 10]\n",
      " [10 10]]\n"
     ]
    }
   ],
   "source": [
    "# Empty array\n",
    "print(np.array([]))\n",
    "\n",
    "# Full array\n",
    "print('\\n', np.full((2,2),10))"
   ]
  },
  {
   "attachments": {},
   "cell_type": "markdown",
   "metadata": {},
   "source": [
    "2. _Create a Numpy array filled with all zeros_ <br>\n",
    "&& <br>\n",
    "3. _Create a Numpy array filled with all ones_"
   ]
  },
  {
   "cell_type": "code",
   "execution_count": 4,
   "metadata": {},
   "outputs": [
    {
     "name": "stdout",
     "output_type": "stream",
     "text": [
      "[0. 0. 0. 0.]\n",
      "\n",
      " [[1. 1. 1. 1.]\n",
      " [1. 1. 1. 1.]\n",
      " [1. 1. 1. 1.]\n",
      " [1. 1. 1. 1.]]\n"
     ]
    }
   ],
   "source": [
    "# 1-D array filled with zeros\n",
    "print(np.zeros(4))\n",
    "\n",
    "# 2-D array filled with ones\n",
    "print('\\n', np.ones((4,4)))"
   ]
  },
  {
   "attachments": {},
   "cell_type": "markdown",
   "metadata": {},
   "source": [
    "4. _Check whether a Numpy array contains a specified row_"
   ]
  },
  {
   "cell_type": "code",
   "execution_count": 5,
   "metadata": {},
   "outputs": [
    {
     "name": "stdout",
     "output_type": "stream",
     "text": [
      "the np array:\n",
      "[[ 0  1  2  3  4]\n",
      " [ 5  6  7  8  9]\n",
      " [10 11 12 13 14]\n",
      " [15 16 17 18 19]]\n",
      "\n",
      "the specified rows: ([5, 6, 7, 8, 9], [11, 12, 13, 14, 15, 16, 17, 18, 19])\n",
      "result (is in nparray): (True, False)\n"
     ]
    }
   ],
   "source": [
    "arr = np.array([i for i in range(20)]).reshape((4,5))\n",
    "ex1_row = list(range(5,10))\n",
    "ex2_row = list(range(11,20))\n",
    "print(f'the np array:\\n{arr}\\n\\nthe specified rows: {ex1_row, ex2_row}')\n",
    "print(f'result (is in nparray): {ex1_row in arr.tolist(), ex2_row in arr.tolist()}')"
   ]
  },
  {
   "attachments": {},
   "cell_type": "markdown",
   "metadata": {},
   "source": [
    "5. _How to Remove rows in Numpy array that contains non-numeric values?_"
   ]
  },
  {
   "cell_type": "code",
   "execution_count": 10,
   "metadata": {},
   "outputs": [
    {
     "data": {
      "text/plain": [
       "array([[11., 12., 13., 14.]])"
      ]
     },
     "execution_count": 10,
     "metadata": {},
     "output_type": "execute_result"
    }
   ],
   "source": [
    "arr = np.array([\n",
    "    [np.nan,5,6,7],\n",
    "    [8,9,10,np.nan],\n",
    "    [11,12,13,14]\n",
    "])\n",
    "arr = arr[~np.isnan(arr).any(axis=1)]\n",
    "arr"
   ]
  },
  {
   "attachments": {},
   "cell_type": "markdown",
   "metadata": {},
   "source": [
    "6. _Remove single-dimensional entries from the shape of an array_"
   ]
  },
  {
   "cell_type": "code",
   "execution_count": 8,
   "metadata": {},
   "outputs": [
    {
     "data": {
      "text/plain": [
       "array([[[0, 1],\n",
       "        [2, 3]],\n",
       "\n",
       "       [[4, 5],\n",
       "        [6, 7]]])"
      ]
     },
     "execution_count": 8,
     "metadata": {},
     "output_type": "execute_result"
    }
   ],
   "source": [
    "np.squeeze(np.arange(8).reshape(2,2,2))"
   ]
  },
  {
   "attachments": {},
   "cell_type": "markdown",
   "metadata": {},
   "source": [
    "7. _Find the number of occurrences of a sequence in a NumPy array_"
   ]
  },
  {
   "cell_type": "code",
   "execution_count": 17,
   "metadata": {},
   "outputs": [
    {
     "name": "stdout",
     "output_type": "stream",
     "text": [
      "array:\n",
      "[[5 7 1]\n",
      " [5 7 1]\n",
      " [5 7 1]]\n",
      "quantidade de (7,1):\n",
      "3\n"
     ]
    }
   ],
   "source": [
    "arr = np.full((3,3), [5,7,1])\n",
    "print(f'array:\\n{arr}\\nquantidade de (7,1):\\n{repr(arr).count(\"7, 1\")}')"
   ]
  },
  {
   "attachments": {},
   "cell_type": "markdown",
   "metadata": {},
   "source": [
    "8. _Find the most frequent value in a NumPy array_"
   ]
  },
  {
   "cell_type": "code",
   "execution_count": 25,
   "metadata": {},
   "outputs": [
    {
     "data": {
      "text/plain": [
       "2"
      ]
     },
     "execution_count": 25,
     "metadata": {},
     "output_type": "execute_result"
    }
   ],
   "source": [
    "arr = np.array([2,4,6,4,5,8,2,2,1,7])\n",
    "np.bincount(arr).argmax()"
   ]
  },
  {
   "attachments": {},
   "cell_type": "markdown",
   "metadata": {},
   "source": [
    "9. _Combining a one and a two-dimensional NumPy Array_"
   ]
  },
  {
   "cell_type": "code",
   "execution_count": 28,
   "metadata": {},
   "outputs": [
    {
     "data": {
      "text/plain": [
       "array([[0, 1, 2, 3, 4],\n",
       "       [0, 1, 2, 3, 4],\n",
       "       [5, 6, 7, 8, 9]])"
      ]
     },
     "execution_count": 28,
     "metadata": {},
     "output_type": "execute_result"
    }
   ],
   "source": [
    "arr_2d = np.arange(10).reshape(2,5)\n",
    "np.vstack((np.arange(5), arr_2d))"
   ]
  },
  {
   "attachments": {},
   "cell_type": "markdown",
   "metadata": {},
   "source": [
    "10. _How to build an array of all combinations of two NumPy arrays?_"
   ]
  },
  {
   "cell_type": "code",
   "execution_count": 42,
   "metadata": {},
   "outputs": [
    {
     "data": {
      "text/plain": [
       "array([[2, 0],\n",
       "       [2, 1],\n",
       "       [2, 2],\n",
       "       [2, 3],\n",
       "       [2, 4],\n",
       "       [2, 5],\n",
       "       [2, 6],\n",
       "       [2, 7],\n",
       "       [2, 8],\n",
       "       [2, 9],\n",
       "       [4, 0],\n",
       "       [4, 1],\n",
       "       [4, 2],\n",
       "       [4, 3],\n",
       "       [4, 4],\n",
       "       [4, 5],\n",
       "       [4, 6],\n",
       "       [4, 7],\n",
       "       [4, 8],\n",
       "       [4, 9],\n",
       "       [6, 0],\n",
       "       [6, 1],\n",
       "       [6, 2],\n",
       "       [6, 3],\n",
       "       [6, 4],\n",
       "       [6, 5],\n",
       "       [6, 6],\n",
       "       [6, 7],\n",
       "       [6, 8],\n",
       "       [6, 9],\n",
       "       [4, 0],\n",
       "       [4, 1],\n",
       "       [4, 2],\n",
       "       [4, 3],\n",
       "       [4, 4],\n",
       "       [4, 5],\n",
       "       [4, 6],\n",
       "       [4, 7],\n",
       "       [4, 8],\n",
       "       [4, 9],\n",
       "       [5, 0],\n",
       "       [5, 1],\n",
       "       [5, 2],\n",
       "       [5, 3],\n",
       "       [5, 4],\n",
       "       [5, 5],\n",
       "       [5, 6],\n",
       "       [5, 7],\n",
       "       [5, 8],\n",
       "       [5, 9],\n",
       "       [8, 0],\n",
       "       [8, 1],\n",
       "       [8, 2],\n",
       "       [8, 3],\n",
       "       [8, 4],\n",
       "       [8, 5],\n",
       "       [8, 6],\n",
       "       [8, 7],\n",
       "       [8, 8],\n",
       "       [8, 9],\n",
       "       [2, 0],\n",
       "       [2, 1],\n",
       "       [2, 2],\n",
       "       [2, 3],\n",
       "       [2, 4],\n",
       "       [2, 5],\n",
       "       [2, 6],\n",
       "       [2, 7],\n",
       "       [2, 8],\n",
       "       [2, 9],\n",
       "       [2, 0],\n",
       "       [2, 1],\n",
       "       [2, 2],\n",
       "       [2, 3],\n",
       "       [2, 4],\n",
       "       [2, 5],\n",
       "       [2, 6],\n",
       "       [2, 7],\n",
       "       [2, 8],\n",
       "       [2, 9],\n",
       "       [1, 0],\n",
       "       [1, 1],\n",
       "       [1, 2],\n",
       "       [1, 3],\n",
       "       [1, 4],\n",
       "       [1, 5],\n",
       "       [1, 6],\n",
       "       [1, 7],\n",
       "       [1, 8],\n",
       "       [1, 9],\n",
       "       [7, 0],\n",
       "       [7, 1],\n",
       "       [7, 2],\n",
       "       [7, 3],\n",
       "       [7, 4],\n",
       "       [7, 5],\n",
       "       [7, 6],\n",
       "       [7, 7],\n",
       "       [7, 8],\n",
       "       [7, 9]])"
      ]
     },
     "execution_count": 42,
     "metadata": {},
     "output_type": "execute_result"
    }
   ],
   "source": [
    "np.array(np.meshgrid(arr, arr_2d)).T.reshape(-1,2)"
   ]
  },
  {
   "attachments": {},
   "cell_type": "markdown",
   "metadata": {},
   "source": [
    "11. _How to add a border around a NumPy array?_"
   ]
  },
  {
   "cell_type": "code",
   "execution_count": 50,
   "metadata": {},
   "outputs": [
    {
     "data": {
      "text/plain": [
       "array([[0, 0, 0, 0, 0, 0, 0],\n",
       "       [0, 0, 0, 0, 0, 0, 0],\n",
       "       [0, 0, 7, 7, 7, 0, 0],\n",
       "       [0, 0, 7, 7, 7, 0, 0],\n",
       "       [0, 0, 7, 7, 7, 0, 0],\n",
       "       [0, 0, 0, 0, 0, 0, 0],\n",
       "       [0, 0, 0, 0, 0, 0, 0]])"
      ]
     },
     "execution_count": 50,
     "metadata": {},
     "output_type": "execute_result"
    }
   ],
   "source": [
    "np.pad(np.full((3,3),7), pad_width=2, mode='constant', constant_values=0)"
   ]
  },
  {
   "attachments": {},
   "cell_type": "markdown",
   "metadata": {},
   "source": [
    "12. _How to compare two NumPy arrays?_"
   ]
  },
  {
   "cell_type": "code",
   "execution_count": 52,
   "metadata": {},
   "outputs": [
    {
     "name": "stdout",
     "output_type": "stream",
     "text": [
      "arrays:\n",
      "[22 16 53]\n",
      "[28 18 56]\n",
      "\n",
      ">\n",
      "[False False False]\n",
      "<\n",
      "[ True  True  True]\n",
      ">=\n",
      "[False False False]\n",
      "<=\n",
      "[ True  True  True]\n"
     ]
    }
   ],
   "source": [
    "arr = np.array([22,16,53])\n",
    "arr_2 = np.array([28,18,56])\n",
    "\n",
    "print(f'arrays:\\n{arr}\\n{arr_2}\\n')\n",
    "print(f'>\\n{np.greater(arr, arr_2)}\\n<\\n{np.less(arr, arr_2)}\\n>=\\n{np.greater_equal(arr, arr_2)}\\n<=\\n{np.less_equal(arr, arr_2)}')"
   ]
  },
  {
   "attachments": {},
   "cell_type": "markdown",
   "metadata": {},
   "source": [
    "13. _How to check whether specified values are present in NumPy array?_"
   ]
  },
  {
   "cell_type": "code",
   "execution_count": 55,
   "metadata": {},
   "outputs": [
    {
     "name": "stdout",
     "output_type": "stream",
     "text": [
      "array:\n",
      "[[0 1 2 3 4]\n",
      " [5 6 7 8 9]]\n",
      "9 está contido no array?\n",
      "True\n"
     ]
    }
   ],
   "source": [
    "print(f'array:\\n{arr_2d}\\n9 está contido no array?\\n{9 in arr_2d}')"
   ]
  },
  {
   "attachments": {},
   "cell_type": "markdown",
   "metadata": {},
   "source": [
    "14. _How to get all 2D diagonals of a 3D NumPy array?_"
   ]
  },
  {
   "cell_type": "code",
   "execution_count": 61,
   "metadata": {},
   "outputs": [
    {
     "name": "stdout",
     "output_type": "stream",
     "text": [
      "array:\n",
      "[[[0 1]\n",
      "  [2 3]]\n",
      "\n",
      " [[4 5]\n",
      "  [6 7]]]\n",
      "\n",
      "diagonais:\n",
      "[[0 3]\n",
      " [4 7]]\n"
     ]
    }
   ],
   "source": [
    "arr_3d = np.arange(2*2*2).reshape(2,2,2)\n",
    "print(f'array:\\n{arr_3d}\\n\\ndiagonais:\\n{np.diagonal(arr_3d, axis1=1, axis2=2)}')"
   ]
  },
  {
   "attachments": {},
   "cell_type": "markdown",
   "metadata": {},
   "source": [
    "15. _Flatten a Matrix in Python using NumPy_<br>\n",
    "&&<br>\n",
    "16. _Flatten a 2d numpy array into 1d array_"
   ]
  },
  {
   "cell_type": "code",
   "execution_count": 69,
   "metadata": {},
   "outputs": [
    {
     "name": "stdout",
     "output_type": "stream",
     "text": [
      "matrix:\n",
      "[[0 1 2 3 4]\n",
      " [5 6 7 8 9]]\n",
      "flattened:\n",
      "[0 1 2 3 4 5 6 7 8 9]\n"
     ]
    }
   ],
   "source": [
    "print(f'matrix:\\n{arr_2d}\\nflattened:\\n{arr_2d.flatten()}')"
   ]
  },
  {
   "attachments": {},
   "cell_type": "markdown",
   "metadata": {},
   "source": [
    "17. _Move axes of an array to new positions_"
   ]
  },
  {
   "cell_type": "code",
   "execution_count": 78,
   "metadata": {},
   "outputs": [
    {
     "name": "stdout",
     "output_type": "stream",
     "text": [
      "array:\n",
      "[[0 1]\n",
      " [2 3]\n",
      " [4 5]\n",
      " [6 7]]\n",
      "depois:\n",
      "[[[0 2]\n",
      "  [4 6]]\n",
      "\n",
      " [[1 3]\n",
      "  [5 7]]]\n"
     ]
    }
   ],
   "source": [
    "arr = np.moveaxis(arr_3d,-1,0)\n",
    "print(f'array:\\n{arr_3d.reshape(4,2)}\\ndepois:\\n{arr}')"
   ]
  },
  {
   "attachments": {},
   "cell_type": "markdown",
   "metadata": {},
   "source": [
    "18. _Interchange two axes of an array_"
   ]
  },
  {
   "cell_type": "code",
   "execution_count": 80,
   "metadata": {},
   "outputs": [
    {
     "data": {
      "text/plain": [
       "array([[[0, 2],\n",
       "        [1, 3]],\n",
       "\n",
       "       [[4, 6],\n",
       "        [5, 7]]])"
      ]
     },
     "execution_count": 80,
     "metadata": {},
     "output_type": "execute_result"
    }
   ],
   "source": [
    "np.swapaxes(arr,1,0)"
   ]
  },
  {
   "attachments": {},
   "cell_type": "markdown",
   "metadata": {},
   "source": [
    "19. _NumPy – Fibonacci Series using Binet Formula_"
   ]
  },
  {
   "cell_type": "code",
   "execution_count": 83,
   "metadata": {},
   "outputs": [
    {
     "name": "stdout",
     "output_type": "stream",
     "text": [
      "número de fibonacci entre a 5 e a 15 posição:\n",
      "[  5.   8.  13.  21.  34.  55.  89. 144. 233. 377.]\n"
     ]
    }
   ],
   "source": [
    "lo_bound, hi_bound = 5, 15\n",
    "arr = np.arange(lo_bound, hi_bound)\n",
    "sz = len(arr)\n",
    "sqrt = np.sqrt(5)\n",
    "alpha = (1 + sqrt) / 2\n",
    "beta = (1 - sqrt) / 2\n",
    "Fn = np.rint(((alpha ** arr) - (beta ** arr)) / (sqrt))\n",
    "print(f'número de fibonacci entre a {lo_bound} e a {hi_bound} posição:\\n{Fn}')"
   ]
  },
  {
   "attachments": {},
   "cell_type": "markdown",
   "metadata": {},
   "source": [
    "20. _Counts the number of non-zero values in the array_"
   ]
  },
  {
   "cell_type": "code",
   "execution_count": 86,
   "metadata": {},
   "outputs": [
    {
     "name": "stdout",
     "output_type": "stream",
     "text": [
      "array:\n",
      "[ 5  6  7  8  9 10 11 12 13 14]\n",
      "non-zeros:\n",
      "10\n"
     ]
    }
   ],
   "source": [
    "print(f'array:\\n{arr}\\nnon-zeros:\\n{np.count_nonzero(arr)}')"
   ]
  },
  {
   "attachments": {},
   "cell_type": "markdown",
   "metadata": {},
   "source": [
    "21. _Count the number of elements along a given axis_"
   ]
  },
  {
   "cell_type": "code",
   "execution_count": 89,
   "metadata": {},
   "outputs": [
    {
     "name": "stdout",
     "output_type": "stream",
     "text": [
      "array:\n",
      "[[0 1 2 3 4]\n",
      " [5 6 7 8 9]]\n",
      "num de linhas: 2\n",
      "num de cols: 5\n",
      "num de elementos: 10\n"
     ]
    }
   ],
   "source": [
    "print(f'array:\\n{arr_2d}\\nnum de linhas: {np.size(arr_2d,0)}\\nnum de cols: {np.size(arr_2d,1)}')\n",
    "print(f'num de elementos: {np.size(arr_2d)}')"
   ]
  },
  {
   "attachments": {},
   "cell_type": "markdown",
   "metadata": {},
   "source": [
    "22. _Trim the leading and/or trailing zeros from a 1-D array_"
   ]
  },
  {
   "cell_type": "code",
   "execution_count": 95,
   "metadata": {},
   "outputs": [
    {
     "name": "stdout",
     "output_type": "stream",
     "text": [
      "array:\n",
      "[ 0  0  5  6  7  8  9 10 11 12 13 14  0  0]\n",
      "final:\n",
      "[ 5  6  7  8  9 10 11 12 13 14]\n"
     ]
    }
   ],
   "source": [
    "padd = np.pad(arr, pad_width=2)\n",
    "print(f'array:\\n{padd}\\nfinal:\\n{np.trim_zeros(padd)}')"
   ]
  },
  {
   "attachments": {},
   "cell_type": "markdown",
   "metadata": {},
   "source": [
    "23. _Change data type of given numpy array_"
   ]
  },
  {
   "cell_type": "code",
   "execution_count": 102,
   "metadata": {},
   "outputs": [
    {
     "name": "stdout",
     "output_type": "stream",
     "text": [
      "array:\n",
      "[28 18 56]\n",
      "tipo: int64\n",
      "as float:\n",
      "[28. 18. 56.]\n",
      "tipo: float64\n"
     ]
    }
   ],
   "source": [
    "print(f'array:\\n{arr_2}\\ntipo: {arr_2.dtype}')\n",
    "arr_2 = arr_2.astype('float64')\n",
    "print(f'as float:\\n{arr_2}\\ntipo: {arr_2.dtype}')"
   ]
  },
  {
   "attachments": {},
   "cell_type": "markdown",
   "metadata": {},
   "source": [
    "24. _Reverse a numpy array_"
   ]
  },
  {
   "cell_type": "code",
   "execution_count": 100,
   "metadata": {},
   "outputs": [
    {
     "name": "stdout",
     "output_type": "stream",
     "text": [
      "array:\n",
      "[[[0 1]\n",
      "  [2 3]]\n",
      "\n",
      " [[4 5]\n",
      "  [6 7]]]\n",
      "\n",
      "flipped:\n",
      "[[[7 6]\n",
      "  [5 4]]\n",
      "\n",
      " [[3 2]\n",
      "  [1 0]]]\n"
     ]
    }
   ],
   "source": [
    "print(f'array:\\n{arr_3d}\\n\\nflipped:\\n{np.flip(arr_3d)}')"
   ]
  },
  {
   "attachments": {},
   "cell_type": "markdown",
   "metadata": {},
   "source": [
    "25. _How to make a NumPy array read-only?_"
   ]
  },
  {
   "cell_type": "code",
   "execution_count": 107,
   "metadata": {},
   "outputs": [
    {
     "ename": "ValueError",
     "evalue": "assignment destination is read-only",
     "output_type": "error",
     "traceback": [
      "\u001b[0;31m---------------------------------------------------------------------------\u001b[0m",
      "\u001b[0;31mValueError\u001b[0m                                Traceback (most recent call last)",
      "Cell \u001b[0;32mIn[107], line 3\u001b[0m\n\u001b[1;32m      1\u001b[0m ones \u001b[39m=\u001b[39m np\u001b[39m.\u001b[39mones(\u001b[39m4\u001b[39m)\u001b[39m.\u001b[39mastype(\u001b[39mint\u001b[39m)\n\u001b[1;32m      2\u001b[0m ones\u001b[39m.\u001b[39mflags\u001b[39m.\u001b[39mwriteable \u001b[39m=\u001b[39m \u001b[39mFalse\u001b[39;00m\n\u001b[0;32m----> 3\u001b[0m ones[\u001b[39m4\u001b[39;49m] \u001b[39m=\u001b[39m \u001b[39m1\u001b[39m\n",
      "\u001b[0;31mValueError\u001b[0m: assignment destination is read-only"
     ]
    }
   ],
   "source": [
    "ones = np.ones(4).astype(int)\n",
    "ones.flags.writeable = False\n",
    "ones[4] = 1"
   ]
  },
  {
   "attachments": {},
   "cell_type": "markdown",
   "metadata": {},
   "source": [
    "# Numpy matrix"
   ]
  },
  {
   "attachments": {},
   "cell_type": "markdown",
   "metadata": {},
   "source": [
    "# Numpy indexing"
   ]
  },
  {
   "attachments": {},
   "cell_type": "markdown",
   "metadata": {},
   "source": [
    "# Numpy Linear Algebra"
   ]
  },
  {
   "attachments": {},
   "cell_type": "markdown",
   "metadata": {},
   "source": [
    "1. _Find a matrix or vector norm using NumPy_"
   ]
  },
  {
   "cell_type": "code",
   "execution_count": 6,
   "metadata": {},
   "outputs": [
    {
     "name": "stdout",
     "output_type": "stream",
     "text": [
      "array:\n",
      "[ 0  1  2  3  4  5  6  7  8  9 10 11 12 13 14]\n",
      "array norm: 31.85906464414798\n",
      "\n",
      "\n",
      "matrix:\n",
      "[[ 0  1  2]\n",
      " [ 3  4  5]\n",
      " [ 6  7  8]\n",
      " [ 9 10 11]\n",
      " [12 13 14]]\n",
      "matrix norm: 31.85906464414798\n"
     ]
    }
   ],
   "source": [
    "# vector norm\n",
    "arr = np.arange(15)\n",
    "print(f'array:\\n{arr}\\narray norm: {np.linalg.norm(arr)}')\n",
    "\n",
    "# matrix norm\n",
    "arr = arr.reshape((5,3))\n",
    "print(f'\\n\\nmatrix:\\n{arr}\\nmatrix norm: {np.linalg.norm(arr)}')"
   ]
  },
  {
   "attachments": {},
   "cell_type": "markdown",
   "metadata": {},
   "source": [
    "2. _Calculate the QR decomposition of a given matrix using NumPy_"
   ]
  },
  {
   "cell_type": "code",
   "execution_count": 8,
   "metadata": {},
   "outputs": [
    {
     "name": "stdout",
     "output_type": "stream",
     "text": [
      "Q:\n",
      "[[ 0.00000000e+00 -7.74596669e-01 -2.44775605e-01]\n",
      " [-1.82574186e-01 -5.16397779e-01  1.36693675e-01]\n",
      " [-3.65148372e-01 -2.58198890e-01 -1.01215083e-01]\n",
      " [-5.47722558e-01  8.32667268e-16  7.71451562e-01]\n",
      " [-7.30296743e-01  2.58198890e-01 -5.62154549e-01]]\n",
      "\n",
      "R: [[-1.64316767e+01 -1.82574186e+01 -2.00831604e+01]\n",
      " [ 0.00000000e+00 -1.29099445e+00 -2.58198890e+00]\n",
      " [ 0.00000000e+00  0.00000000e+00  1.61656869e-15]]\n"
     ]
    }
   ],
   "source": [
    "q, r = np.linalg.qr(arr)\n",
    "print(f'Q:\\n{q}\\n\\nR: {r}')"
   ]
  },
  {
   "attachments": {},
   "cell_type": "markdown",
   "metadata": {},
   "source": [
    "3. _Compute the condition number of a given matrix using NumPy_"
   ]
  },
  {
   "cell_type": "code",
   "execution_count": 9,
   "metadata": {},
   "outputs": [
    {
     "name": "stdout",
     "output_type": "stream",
     "text": [
      "matrix:\n",
      "[[ 0  1  2]\n",
      " [ 3  4  5]\n",
      " [ 6  7  8]\n",
      " [ 9 10 11]\n",
      " [12 13 14]]\n",
      "condition number: 4.821066647629074e+16\n"
     ]
    }
   ],
   "source": [
    "print(f'matrix:\\n{arr}\\ncondition number: {np.linalg.cond(arr)}')"
   ]
  },
  {
   "attachments": {},
   "cell_type": "markdown",
   "metadata": {},
   "source": [
    "4. _Compute the eigenvalues and right eigenvectors of a given square array using NumPy_"
   ]
  },
  {
   "cell_type": "code",
   "execution_count": 13,
   "metadata": {},
   "outputs": [
    {
     "name": "stdout",
     "output_type": "stream",
     "text": [
      "eigenvalues:\n",
      "[ 1.08309519e+01 -8.30951895e-01  1.01486082e-16]\n",
      "\n",
      "eigenvectors:\n",
      "[[ 0.34416959  0.72770285  0.40824829]\n",
      " [ 0.49532111  0.27580256 -0.81649658]\n",
      " [ 0.79762415 -0.62799801  0.40824829]]\n"
     ]
    }
   ],
   "source": [
    "arr = np.array([[1, 2, 3],\n",
    "              [2, 3, 4],\n",
    "              [4, 5, 6]])\n",
    "w, v = np.linalg.eig(arr)\n",
    "print(f'eigenvalues:\\n{w}\\n\\neigenvectors:\\n{v}')"
   ]
  },
  {
   "attachments": {},
   "cell_type": "markdown",
   "metadata": {},
   "source": [
    "5. _Calculate the Euclidean distance using NumPy_"
   ]
  },
  {
   "cell_type": "code",
   "execution_count": 33,
   "metadata": {},
   "outputs": [
    {
     "name": "stdout",
     "output_type": "stream",
     "text": [
      "sqrt(sum(square(minus(p2-p1)))):\n",
      "61.106464469808756\n",
      "exec time: 0.087738037109375ms\n",
      "\n",
      "sqrt(dot(p2-p1)):\n",
      "61.106464469808756\n",
      "exec time: 0.11944770812988281ms\n",
      "\n",
      "norm(p2-p1):\n",
      "61.106464469808756\n",
      "exec time: 0.09775161743164062ms\n"
     ]
    }
   ],
   "source": [
    "import time\n",
    "p1 = np.array([15,22,1])\n",
    "p2 = np.array([72,0,0])\n",
    "minus = p2-p1\n",
    "\n",
    "# pure euclidean formula\n",
    "start = time.time()\n",
    "calc = np.sqrt(np.sum(np.square(minus)))\n",
    "end = time.time()\n",
    "print(f'sqrt(sum(square(minus(p2-p1)))):\\n{calc}\\nexec time: {(end-start)*10**3}ms')\n",
    "\n",
    "# using dot product\n",
    "start = time.time()\n",
    "calc = np.sqrt(np.dot(minus.T, minus))\n",
    "end = time.time()\n",
    "print(f'\\nsqrt(dot(p2-p1)):\\n{calc}\\nexec time: {(end-start)*10**3}ms')\n",
    "\n",
    "# using the minus vector norm\n",
    "start = time.time()\n",
    "calc = np.linalg.norm(minus)\n",
    "end = time.time()\n",
    "print(f'\\nnorm(p2-p1):\\n{calc}\\nexec time: {(end-start)*10**3}ms')"
   ]
  },
  {
   "attachments": {},
   "cell_type": "markdown",
   "metadata": {},
   "source": [
    "# Numpy random"
   ]
  },
  {
   "attachments": {},
   "cell_type": "markdown",
   "metadata": {},
   "source": [
    "# Sorting and Searching"
   ]
  },
  {
   "attachments": {},
   "cell_type": "markdown",
   "metadata": {},
   "source": [
    "# Mathematics"
   ]
  },
  {
   "attachments": {},
   "cell_type": "markdown",
   "metadata": {},
   "source": [
    "# Statistics"
   ]
  },
  {
   "attachments": {},
   "cell_type": "markdown",
   "metadata": {},
   "source": [
    "# Polynomial"
   ]
  },
  {
   "attachments": {},
   "cell_type": "markdown",
   "metadata": {},
   "source": [
    "# Strings"
   ]
  }
 ],
 "metadata": {
  "kernelspec": {
   "display_name": "Python 3",
   "language": "python",
   "name": "python3"
  },
  "language_info": {
   "codemirror_mode": {
    "name": "ipython",
    "version": 3
   },
   "file_extension": ".py",
   "mimetype": "text/x-python",
   "name": "python",
   "nbconvert_exporter": "python",
   "pygments_lexer": "ipython3",
   "version": "3.10.6"
  },
  "orig_nbformat": 4,
  "vscode": {
   "interpreter": {
    "hash": "916dbcbb3f70747c44a77c7bcd40155683ae19c65e1c03b4aa3499c5328201f1"
   }
  }
 },
 "nbformat": 4,
 "nbformat_minor": 2
}
