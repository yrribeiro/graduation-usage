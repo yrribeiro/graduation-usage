{
 "cells": [
  {
   "attachments": {},
   "cell_type": "markdown",
   "metadata": {},
   "source": [
    "# NumPy Array\n",
    "* this is a college assignment (https://github.com/tfvieira/deep-learning/blob/main/src/numpy_tutorial/readme.md)"
   ]
  },
  {
   "cell_type": "code",
   "execution_count": 29,
   "metadata": {},
   "outputs": [],
   "source": [
    "import numpy as np\n",
    "from numpy.random import default_rng"
   ]
  },
  {
   "attachments": {},
   "cell_type": "markdown",
   "metadata": {},
   "source": [
    "1. _How to create an empty and a full NumPy array?_"
   ]
  },
  {
   "cell_type": "code",
   "execution_count": 13,
   "metadata": {},
   "outputs": [
    {
     "name": "stdout",
     "output_type": "stream",
     "text": [
      "[]\n",
      "\n",
      " [0 1 2 3 4 5 6 7 8 9]\n"
     ]
    }
   ],
   "source": [
    "# Creating a empty array by instanciating the np.array class\n",
    "print(np.array([]))\n",
    "\n",
    "# The easiest way to create a filled array is to fill it with regularly incrementing values\n",
    "print('\\n', np.arange(10))"
   ]
  },
  {
   "attachments": {},
   "cell_type": "markdown",
   "metadata": {},
   "source": [
    "2. _Create a Numpy array filled with all zeros_ <br>\n",
    "&& <br>\n",
    "3. _Create a Numpy array filled with all ones_"
   ]
  },
  {
   "cell_type": "code",
   "execution_count": 10,
   "metadata": {},
   "outputs": [
    {
     "name": "stdout",
     "output_type": "stream",
     "text": [
      "[0. 0. 0. 0.]\n",
      "\n",
      " [[1. 1. 1. 1.]\n",
      " [1. 1. 1. 1.]\n",
      " [1. 1. 1. 1.]\n",
      " [1. 1. 1. 1.]]\n"
     ]
    }
   ],
   "source": [
    "# 1-D array filled with zeros\n",
    "print(np.zeros(4))\n",
    "\n",
    "# 2-D array filled with ones\n",
    "print('\\n', np.ones((4,4)))"
   ]
  },
  {
   "attachments": {},
   "cell_type": "markdown",
   "metadata": {},
   "source": [
    "4. _Check whether a Numpy array contains a specified row_"
   ]
  },
  {
   "cell_type": "code",
   "execution_count": 45,
   "metadata": {},
   "outputs": [
    {
     "name": "stdout",
     "output_type": "stream",
     "text": [
      "the np array:\n",
      "[[ 0  1  2  3  4]\n",
      " [ 5  6  7  8  9]\n",
      " [10 11 12 13 14]\n",
      " [15 16 17 18 19]]\n",
      "\n",
      "the specified rows: ([5, 6, 7, 8, 9], [11, 12, 13, 14, 15, 16, 17, 18, 19])\n",
      "result (is in nparray): (True, False)\n"
     ]
    }
   ],
   "source": [
    "# The following approach uses the inbuilt library function to compare as python classic lists\n",
    "arr = np.array([i for i in range(20)]).reshape((4,5))\n",
    "ex1_row = list(range(5,10))\n",
    "ex2_row = list(range(11,20))\n",
    "print(f'the np array:\\n{arr}\\n\\nthe specified rows: {ex1_row, ex2_row}')\n",
    "print(f'result (is in nparray): {ex1_row in arr.tolist(), ex2_row in arr.tolist()}')"
   ]
  },
  {
   "attachments": {},
   "cell_type": "markdown",
   "metadata": {},
   "source": [
    "5. _How to Remove rows in Numpy array that contains non-numeric values?_"
   ]
  },
  {
   "cell_type": "code",
   "execution_count": 62,
   "metadata": {},
   "outputs": [
    {
     "data": {
      "text/plain": [
       "array([[11., 12., 13., 14.]])"
      ]
     },
     "execution_count": 62,
     "metadata": {},
     "output_type": "execute_result"
    }
   ],
   "source": [
    "# Create a slice of the array only if the condition is not met\n",
    "# TODO recognize string as non-numeric\n",
    "arr = np.array([\n",
    "    [np.nan,5,6,7],\n",
    "    [8,9,10,np.nan],\n",
    "    [11,12,13,14]\n",
    "])\n",
    "arr[~np.isnan(arr).any(axis=1)]"
   ]
  }
 ],
 "metadata": {
  "kernelspec": {
   "display_name": "Python 3",
   "language": "python",
   "name": "python3"
  },
  "language_info": {
   "codemirror_mode": {
    "name": "ipython",
    "version": 3
   },
   "file_extension": ".py",
   "mimetype": "text/x-python",
   "name": "python",
   "nbconvert_exporter": "python",
   "pygments_lexer": "ipython3",
   "version": "3.10.6"
  },
  "orig_nbformat": 4,
  "vscode": {
   "interpreter": {
    "hash": "916dbcbb3f70747c44a77c7bcd40155683ae19c65e1c03b4aa3499c5328201f1"
   }
  }
 },
 "nbformat": 4,
 "nbformat_minor": 2
}
